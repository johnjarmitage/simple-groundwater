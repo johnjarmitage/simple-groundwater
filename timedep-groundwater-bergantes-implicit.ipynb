{
 "cells": [
  {
   "cell_type": "code",
   "execution_count": null,
   "metadata": {},
   "outputs": [],
   "source": [
    "%matplotlib inline\n",
    "import numpy as np\n",
    "import matplotlib.pyplot as plt\n",
    "from dolfin import *\n",
    "from osgeo import gdal\n",
    "import pygmsh\n",
    "import meshio\n",
    "import scipy.interpolate as interp\n",
    "import meshio\n",
    "from itkwidgets import view\n",
    "import pyvista as pv\n",
    "from pyvista import set_plot_theme\n",
    "set_plot_theme('document')"
   ]
  },
  {
   "cell_type": "markdown",
   "metadata": {},
   "source": [
    "### Notebook to play with simple 2D groundwater flow with shallow water and Bernouli's approximation\n",
    "\n",
    "$$ f\\frac{\\partial h}{\\partial t} = \\nabla \\cdot \\left[Kh \\nabla \\left( h + z \\right)\\right] + S $$\n",
    "\n",
    "* Boundary conditions are $ \\partial h/\\partial y = 0 $ on north and south, and $ h = const. $ on east and west.\n",
    "* $z$ is the topography of the impermiable base layer.\n",
    "* $f$ is the drainiable porosity.\n",
    "* $K$ is conductivity."
   ]
  },
  {
   "cell_type": "code",
   "execution_count": null,
   "metadata": {},
   "outputs": [],
   "source": [
    "h_south = 10  # south boundary height\n",
    "f = 0.34  # drainable porosity\n",
    "S = 0.03*24/f  # source term mm/hr -> m/day\n",
    "K = 0.0001*60*60*24/f  # conductivity m/s -> m/day\n",
    "D = 20  # initial water height m"
   ]
  },
  {
   "cell_type": "markdown",
   "metadata": {},
   "source": [
    "Build the model mesh based on the Sithas DEM"
   ]
  },
  {
   "cell_type": "code",
   "execution_count": null,
   "metadata": {},
   "outputs": [],
   "source": [
    "# load in DEM\n",
    "gdal_data = gdal.Open('/work/armitagj/code/caesar-explore/riu-bergantes/paleo-v1/input_data/paleoDEM_v1.tif')\n",
    "data_array = gdal_data.ReadAsArray().astype(np.float)\n",
    "\n",
    "# extract contour of the catchment (need to use three segments)\n",
    "catchment = np.nan_to_num(data_array)\n",
    "cs = plt.contour(catchment, [0])\n",
    "plt.show()\n",
    "xy = cs.collections[0].get_paths()[0]\n",
    "coor_xy = xy.vertices\n",
    "xy = cs.collections[0].get_paths()[2]\n",
    "coor_xy = np.append(coor_xy, xy.vertices, axis=0)\n",
    "xy = cs.collections[0].get_paths()[1]\n",
    "coor_xy = np.append(coor_xy, xy.vertices, axis=0)\n",
    "\n",
    "lx = np.max(coor_xy[:,0])\n",
    "ly = np.max(coor_xy[:,1])  # characteristic length: ly\n",
    "coor_xy_dimless = coor_xy/ly\n",
    "\n",
    "# chop off the outflow to make a straight boundary\n",
    "outflow = np.min(coor_xy_dimless[:,1]) + 0.02\n",
    "coor_xy_dimless[np.where(coor_xy_dimless[:,1] < outflow), 1] = outflow\n",
    "\n",
    "coor_z = np.zeros((len(coor_xy), 1))\n",
    "coor = np.concatenate((coor_xy, coor_z), axis=1)\n",
    "\n",
    "# create the mesh\n",
    "geom = pygmsh.built_in.Geometry()\n",
    "poly = geom.add_polygon(coor[0::100])\n",
    "i = 0\n",
    "for line in poly.line_loop.lines:\n",
    "    geom.add_physical([poly.line_loop.lines[i]], i + 1)\n",
    "    i = i + 1\n",
    "geom.add_physical([poly.surface], i + 1)\n",
    "res = 64\n",
    "maxcell = ly/res\n",
    "gmshmesh = pygmsh.generate_mesh(geom, extra_gmsh_arguments=[\"-2\", \"-clmax\", str(maxcell)])\n",
    "\n",
    "# export the mesh\n",
    "cells = np.vstack(np.array([cells.data for cells in gmshmesh.cells\n",
    "                            if cells.type == \"triangle\"]))\n",
    "triangle_mesh = meshio.Mesh(points=gmshmesh.points,\n",
    "                            cells=[(\"triangle\", cells)])\n",
    "facet_cells = np.vstack(np.array([cells.data for cells in gmshmesh.cells\n",
    "                                  if cells.type == \"line\"]))\n",
    "facet_data = gmshmesh.cell_data_dict[\"gmsh:physical\"][\"line\"]\n",
    "facet_mesh = meshio.Mesh(points=gmshmesh.points,\n",
    "                         cells=[(\"line\", facet_cells)],\n",
    "                         cell_data={\"name_to_read\": [facet_data]})\n",
    "# export\n",
    "meshio.xdmf.write(\"mesh.xdmf\", triangle_mesh)\n",
    "meshio.xdmf.write(\"facet_mesh.xdmf\", facet_mesh)\n",
    "\n",
    "# read in the mesh for dolfin\n",
    "mesh = Mesh()\n",
    "with XDMFFile(\"mesh.xdmf\") as infile:\n",
    "    infile.read(mesh)\n",
    "mvc = MeshValueCollection(\"size_t\", mesh, 2)\n",
    "with XDMFFile(\"facet_mesh.xdmf\") as infile:\n",
    "    infile.read(mvc, \"name_to_read\")\n",
    "mf = cpp.mesh.MeshFunctionSizet(mesh, mvc)\n",
    "\n",
    "# define function space\n",
    "V = FunctionSpace(mesh, 'P', 1)\n",
    "z = Function(V)\n",
    "\n",
    "# Get the global coordinates\n",
    "gdim = mesh.geometry().dim()\n",
    "gc = V.tabulate_dof_coordinates().reshape((-1, gdim))\n",
    "\n",
    "# Interpolate elevation into the initial condition\n",
    "ny, nx = np.shape(data_array)\n",
    "x, y = np.meshgrid(np.linspace(0, nx, nx),\n",
    "                   np.linspace(0, ny, ny))\n",
    "\n",
    "flat_data = data_array.flatten()\n",
    "new_data = flat_data[~np.isnan(flat_data)]\n",
    "flat_x = x.flatten()[~np.isnan(flat_data)]\n",
    "flat_y = y.flatten()[~np.isnan(flat_data)]\n",
    "\n",
    "elevation = interp.griddata((flat_x[0::100], flat_y[0::100]),\n",
    "                            new_data[0::100],\n",
    "                            (gc[:, 0], gc[:, 1]),\n",
    "                            method='nearest')\n",
    "\n",
    "z.vector()[:] = elevation-100  # bedrock elevation from topography\n",
    "outpoint = np.min(gc[:, 1])\n",
    "print(outflow)\n",
    "print(outpoint)\n",
    "print(np.min(x[1]))\n",
    "\n",
    "# define boundary\n",
    "class South(SubDomain):\n",
    "    def inside(self, x, on_boundary):\n",
    "        return near(x[1], outpoint)\n",
    "\n",
    "# apply boundary condition\n",
    "uS = Constant(h_south)\n",
    "South().mark(mf, 1)\n",
    "bc = DirichletBC(V, z, mf, 1)"
   ]
  },
  {
   "cell_type": "markdown",
   "metadata": {},
   "source": [
    " Check bedrock"
   ]
  },
  {
   "cell_type": "code",
   "execution_count": null,
   "metadata": {},
   "outputs": [],
   "source": [
    "File(\"mesh.pvd\").write(mesh)\n",
    "test = pv.read(\"mesh000000.vtu\")\n",
    "p = pv.Plotter(notebook=True, border=False)\n",
    "p.add_mesh(test, show_edges=True)\n",
    "p.show()"
   ]
  },
  {
   "cell_type": "markdown",
   "metadata": {},
   "source": [
    "Try to get stable timestep for this...\n",
    "$$ \\Delta t \\leq \\frac{\\left(\\Delta x\\right)^2}{2\\kappa(h)} $$\n",
    "the problem is the diffusion coefficient is a function of the hydraulic head. But if I assume the hydraulic head is a maximum of 100m\n"
   ]
  },
  {
   "cell_type": "code",
   "execution_count": null,
   "metadata": {},
   "outputs": [],
   "source": [
    "hmax = 100  # meters\n",
    "kappa = K*hmax\n",
    "cfl = 0.1  # just to be safe\n",
    "deltax = np.min([np.min(np.diff(gc[:, 0])), np.min(np.diff(gc[:, 1]))])\n",
    "dt = cfl * deltax * deltax / (2 * kappa)\n",
    "print('dt = {}; dx = {}'.format(dt, deltax))"
   ]
  },
  {
   "cell_type": "markdown",
   "metadata": {},
   "source": [
    "Define the trial $u$ and test $v$ functions and the source term, $S$. I used [this](https://fenicsproject.org/pub/tutorial/sphinx1/._ftut1004.html) resource as a first try at the implicit solution."
   ]
  },
  {
   "cell_type": "code",
   "execution_count": null,
   "metadata": {},
   "outputs": [],
   "source": [
    "dt = 0.001"
   ]
  },
  {
   "cell_type": "code",
   "execution_count": null,
   "metadata": {},
   "outputs": [],
   "source": [
    "def kappa(u):\n",
    "    return K*u\n",
    "\n",
    "# Define variational problem\n",
    "u = Function(V)\n",
    "u_n = Function(V)\n",
    "u_n = interpolate(Constant(D), V)\n",
    "v = TestFunction(V)\n",
    "f = Constant(S)\n",
    "f = Expression(\"f\", f=f, degree=1)\n",
    "k = Constant(K)\n",
    "\n",
    "#F = u*v*dx + dt*inner(kappa(u) * nabla_grad(u + z), nabla_grad(v + z))*dx - (u_n + dt*f)*v*dx\n"
   ]
  },
  {
   "cell_type": "markdown",
   "metadata": {},
   "source": [
    "Solve for the time dependent equation"
   ]
  },
  {
   "cell_type": "code",
   "execution_count": null,
   "metadata": {},
   "outputs": [],
   "source": [
    "# time steps fr explicit solutions\n",
    "itera = 0           # iteration counter\n",
    "maxiter = 2         # max no of iterations allowed\n",
    "\n",
    "while itera < maxiter:\n",
    "    itera += 1\n",
    "    solve(a == L, u, bc, solver_parameters={\"newton_solver\": {\"relative_tolerance\": 1e-6}})\n",
    "    u_n.assign(u)"
   ]
  },
  {
   "cell_type": "code",
   "execution_count": null,
   "metadata": {},
   "outputs": [],
   "source": [
    "# Save solution to file\n",
    "file = File(\"timedep-groundwater-head.pvd\")\n",
    "u.rename(\"h\",\"head\")\n",
    "file << u\n",
    "file = File(\"timedep-groundwater-base.pvd\")\n",
    "z.rename(\"z\",\"base\")\n",
    "file << z"
   ]
  },
  {
   "cell_type": "markdown",
   "metadata": {},
   "source": [
    "Plot the solution"
   ]
  },
  {
   "cell_type": "code",
   "execution_count": null,
   "metadata": {},
   "outputs": [],
   "source": [
    "head = pv.read('timedep-groundwater-head000000.vtu')\n",
    "base = pv.read('timedep-groundwater-base000000.vtu')\n",
    "head['groundwater'] = base['z'] + head['h']\n",
    "warp = head.warp_by_scalar(scalars='groundwater',factor=1)\n",
    "warpz = base.warp_by_scalar(scalars='z',factor=1)\n",
    "# view(geometries=warp)"
   ]
  },
  {
   "cell_type": "code",
   "execution_count": null,
   "metadata": {},
   "outputs": [],
   "source": [
    "p = pv.Plotter(notebook=False, border=False)\n",
    "p.add_text(\"Steady State Solution\", font_size=12)\n",
    "p.add_mesh(warp, scalars='groundwater', cmap='viridis', lighting=True, show_scalar_bar=True, opacity=0.85, color=True)\n",
    "p.add_mesh(warpz, scalars='z', cmap='magma', lighting=True, show_scalar_bar=True)\n",
    "p.show_bounds(grid='front', font_size=8, location='outer', all_edges=True)\n",
    "p.show(use_panel=False,)"
   ]
  },
  {
   "cell_type": "code",
   "execution_count": null,
   "metadata": {},
   "outputs": [],
   "source": [
    "warph = head.warp_by_scalar(scalars='h',factor=10)"
   ]
  },
  {
   "cell_type": "code",
   "execution_count": null,
   "metadata": {},
   "outputs": [],
   "source": [
    "p = pv.Plotter(notebook=False, border=False)\n",
    "p.add_text(\"Steady State Solution\", font_size=12)\n",
    "p.add_mesh(warph, scalars='h', cmap='RdBu_r', lighting=True, show_scalar_bar=True)\n",
    "p.show(use_panel=False,)"
   ]
  },
  {
   "cell_type": "code",
   "execution_count": null,
   "metadata": {},
   "outputs": [],
   "source": []
  }
 ],
 "metadata": {
  "kernelspec": {
   "display_name": "Python 3",
   "language": "python",
   "name": "python3"
  },
  "language_info": {
   "codemirror_mode": {
    "name": "ipython",
    "version": 3
   },
   "file_extension": ".py",
   "mimetype": "text/x-python",
   "name": "python",
   "nbconvert_exporter": "python",
   "pygments_lexer": "ipython3",
   "version": "3.7.6"
  }
 },
 "nbformat": 4,
 "nbformat_minor": 4
}
