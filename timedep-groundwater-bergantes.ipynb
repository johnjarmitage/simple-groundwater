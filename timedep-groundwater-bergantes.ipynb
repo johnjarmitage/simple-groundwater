{
 "cells": [
  {
   "cell_type": "code",
   "execution_count": null,
   "metadata": {},
   "outputs": [],
   "source": [
    "%matplotlib inline\n",
    "import numpy as np\n",
    "import matplotlib.pyplot as plt\n",
    "from dolfin import *\n",
    "from osgeo import gdal\n",
    "import pygmsh\n",
    "import meshio\n",
    "import scipy.interpolate as interp\n",
    "import meshio\n",
    "from itkwidgets import view\n",
    "import pyvista as pv\n",
    "from pyvista import set_plot_theme\n",
    "set_plot_theme('document')"
   ]
  },
  {
   "cell_type": "code",
   "execution_count": null,
   "metadata": {},
   "outputs": [],
   "source": [
    "\"\"\"\n",
    "# ipython_exit.py\n",
    "Allows exit() to work if script is invoked with IPython without\n",
    "raising NameError Exception. Keeps kernel alive.\n",
    "\n",
    "Use: import variable 'exit' in target script with\n",
    "     'from ipython_exit import exit'    \n",
    "\"\"\"\n",
    "\n",
    "import sys\n",
    "from io import StringIO\n",
    "from IPython import get_ipython\n",
    "\n",
    "\n",
    "class IpyExit(SystemExit):\n",
    "    \"\"\"Exit Exception for IPython.\n",
    "\n",
    "    Exception temporarily redirects stderr to buffer.\n",
    "    \"\"\"\n",
    "    def __init__(self):\n",
    "        # print(\"exiting\")  # optionally print some message to stdout, too\n",
    "        # ... or do other stuff before exit\n",
    "        sys.stderr = StringIO()\n",
    "\n",
    "    def __del__(self):\n",
    "        sys.stderr.close()\n",
    "        sys.stderr = sys.__stderr__  # restore from backup\n",
    "\n",
    "\n",
    "def ipy_exit():\n",
    "    raise IpyExit\n",
    "\n",
    "\n",
    "if get_ipython():    # ...run with IPython\n",
    "    exit = ipy_exit  # rebind to custom exit\n",
    "else:\n",
    "    exit = exit      # just make exit importable"
   ]
  },
  {
   "cell_type": "markdown",
   "metadata": {},
   "source": [
    "### Notebook to play with simple 2D groundwater flow with shallow water and Bernouli's approximation\n",
    "\n",
    "$$ C\\frac{\\partial h}{\\partial t} = \\nabla \\cdot \\left[K(h) \\nabla \\left( h + z \\right)\\right] + S $$\n",
    "\n",
    "* $z$ is the topography of the impermiable base layer.\n",
    "* $C$ is the drainiable porosity.\n",
    "* $K(h)$ is conductivity (and is a function of the hydraulic head, but to start with make it constant)"
   ]
  },
  {
   "cell_type": "code",
   "execution_count": null,
   "metadata": {},
   "outputs": [],
   "source": [
    "h_south = 0  # south boundary height\n",
    "C = 0.34  # drainable porosity\n",
    "S = 0.03*24/C  # source term mm/hr -> m/day\n",
    "K = 1e-4*60*60*24/C  # conductivity m/s -> m/day\n",
    "D = 0  # initial water height m"
   ]
  },
  {
   "cell_type": "markdown",
   "metadata": {},
   "source": [
    "Build the model mesh based on the Sithas DEM"
   ]
  },
  {
   "cell_type": "code",
   "execution_count": null,
   "metadata": {},
   "outputs": [],
   "source": [
    "# load in DEM\n",
    "gdal_data = gdal.Open('/work/armitagj/code/caesar-explore/riu-bergantes/paleo-v1/input_data/paleoDEM_v1.tif')\n",
    "data_array = gdal_data.ReadAsArray().astype(np.float)\n",
    "\n",
    "# extract contour of the catchment (need to use three segments)\n",
    "catchment = np.nan_to_num(data_array)\n",
    "cs = plt.contour(catchment, [0])\n",
    "plt.show()\n",
    "xy = cs.collections[0].get_paths()[0]\n",
    "coor_xy = xy.vertices\n",
    "xy = cs.collections[0].get_paths()[2]\n",
    "coor_xy = np.append(coor_xy, xy.vertices, axis=0)\n",
    "xy = cs.collections[0].get_paths()[1]\n",
    "coor_xy = np.append(coor_xy, xy.vertices, axis=0)\n",
    "\n",
    "lx = np.max(coor_xy[:,0])\n",
    "ly = np.max(coor_xy[:,1])  # characteristic length: ly\n",
    "\n",
    "# chop off the outflow to make a straight boundary\n",
    "outflow = np.min(coor_xy[:,1]) + 0.02*ly\n",
    "coor_xy[np.where(coor_xy[:,1] < outflow), 1] = outflow\n",
    "\n",
    "coor_z = np.zeros((len(coor_xy), 1))\n",
    "coor = np.concatenate((coor_xy, coor_z), axis=1)\n",
    "\n",
    "# create the mesh\n",
    "geom = pygmsh.built_in.Geometry()\n",
    "poly = geom.add_polygon(coor[0::100])\n",
    "i = 0\n",
    "for line in poly.line_loop.lines:\n",
    "    geom.add_physical([poly.line_loop.lines[i]], i + 1)\n",
    "    i = i + 1\n",
    "geom.add_physical([poly.surface], i + 1)\n",
    "res = 32\n",
    "maxcell = ly/res\n",
    "gmshmesh = pygmsh.generate_mesh(geom, extra_gmsh_arguments=[\"-2\", \"-clmax\", str(maxcell)])\n",
    "\n",
    "# export the mesh\n",
    "cells = np.vstack(np.array([cells.data for cells in gmshmesh.cells\n",
    "                            if cells.type == \"triangle\"]))\n",
    "triangle_mesh = meshio.Mesh(points=gmshmesh.points,\n",
    "                            cells=[(\"triangle\", cells)])\n",
    "facet_cells = np.vstack(np.array([cells.data for cells in gmshmesh.cells\n",
    "                                  if cells.type == \"line\"]))\n",
    "facet_data = gmshmesh.cell_data_dict[\"gmsh:physical\"][\"line\"]\n",
    "facet_mesh = meshio.Mesh(points=gmshmesh.points,\n",
    "                         cells=[(\"line\", facet_cells)],\n",
    "                         cell_data={\"name_to_read\": [facet_data]})\n",
    "# export\n",
    "meshio.xdmf.write(\"mesh.xdmf\", triangle_mesh)\n",
    "meshio.xdmf.write(\"facet_mesh.xdmf\", facet_mesh)\n",
    "\n",
    "# read in the mesh for dolfin\n",
    "mesh = Mesh()\n",
    "with XDMFFile(\"mesh.xdmf\") as infile:\n",
    "    infile.read(mesh)\n",
    "mvc = MeshValueCollection(\"size_t\", mesh, 2)\n",
    "with XDMFFile(\"facet_mesh.xdmf\") as infile:\n",
    "    infile.read(mvc, \"name_to_read\")\n",
    "mf = cpp.mesh.MeshFunctionSizet(mesh, mvc)\n",
    "\n",
    "# define function space\n",
    "V = FunctionSpace(mesh, 'P', 2)\n",
    "z = Function(V)\n",
    "\n",
    "# Get the global coordinates\n",
    "gdim = mesh.geometry().dim()\n",
    "gc = V.tabulate_dof_coordinates().reshape((-1, gdim))\n",
    "\n",
    "# Interpolate elevation into the initial condition\n",
    "ny, nx = np.shape(data_array)\n",
    "x, y = np.meshgrid(np.linspace(0, nx, nx),\n",
    "                   np.linspace(0, ny, ny))\n",
    "\n",
    "flat_data = data_array.flatten()\n",
    "new_data = flat_data[~np.isnan(flat_data)]\n",
    "flat_x = x.flatten()[~np.isnan(flat_data)]\n",
    "flat_y = y.flatten()[~np.isnan(flat_data)]\n",
    "\n",
    "elevation = interp.griddata((flat_x[0::100], flat_y[0::100]),\n",
    "                            new_data[0::100],\n",
    "                            (gc[:, 0], gc[:, 1]),\n",
    "                            method='nearest')\n",
    "\n",
    "z.vector()[:] = 1e-1 * elevation  # bedrock elevation from topography\n",
    "outpoint = np.min(gc[:, 1])\n",
    "print(outflow)\n",
    "print(outpoint)\n",
    "print(np.min(x[1]))\n",
    "\n",
    "# define boundary\n",
    "class South(SubDomain):\n",
    "    def inside(self, x, on_boundary):\n",
    "        return near(x[1], outpoint)"
   ]
  },
  {
   "cell_type": "code",
   "execution_count": null,
   "metadata": {},
   "outputs": [],
   "source": [
    "# apply boundary condition (not applied to correct bc for now)\n",
    "# uS = Constant(h_south)\n",
    "# South().mark(mf, 1)\n",
    "# bc = DirichletBC(V, uS, mf, 1)\n",
    "bc = []"
   ]
  },
  {
   "cell_type": "markdown",
   "metadata": {},
   "source": [
    " Check bedrock"
   ]
  },
  {
   "cell_type": "code",
   "execution_count": null,
   "metadata": {},
   "outputs": [],
   "source": [
    "File(\"mesh.pvd\").write(mesh)\n",
    "test = pv.read(\"mesh000000.vtu\")\n",
    "p = pv.Plotter(notebook=True, border=False)\n",
    "p.add_mesh(test, show_edges=True)\n",
    "p.show()"
   ]
  },
  {
   "cell_type": "markdown",
   "metadata": {},
   "source": [
    "Try to get stable timestep for this...\n",
    "$$ \\Delta t \\leq \\frac{\\left(\\Delta x\\right)^2}{2\\kappa(h)} $$\n",
    "the problem is the diffusion coefficient is a function of the hydraulic head. But if I assume the hydraulic head is a maximum of 100m\n"
   ]
  },
  {
   "cell_type": "code",
   "execution_count": null,
   "metadata": {},
   "outputs": [],
   "source": [
    "hmax = 500  # meters\n",
    "kappa = K*hmax\n",
    "cfl = 0.01  # just to be very safe\n",
    "deltax = mesh.hmin()\n",
    "dt = cfl * deltax * deltax / (2 * kappa)\n",
    "print('dt = {} secs; dx = {} m'.format(dt*24*60*60, deltax))"
   ]
  },
  {
   "cell_type": "markdown",
   "metadata": {},
   "source": [
    "Define the trial $u$ and test $v$ functions and the source term, $S$.\n",
    "\n",
    "I will assume that I can use the head ($u$) from the previous time-step for the non-linear term within the diffusion: **explicit** I guess."
   ]
  },
  {
   "cell_type": "code",
   "execution_count": null,
   "metadata": {},
   "outputs": [],
   "source": [
    "def kappa(u):\n",
    "    return K\n",
    "\n",
    "# Define variational problem\n",
    "u = TrialFunction(V)\n",
    "v = TestFunction(V)\n",
    "u_n = interpolate(Constant(D), V)\n",
    "u_ = u_n\n",
    "f = Constant(S)\n",
    "\n",
    "F = u*v*dx + dt * kappa(u_) * dot(grad(u + z), grad(v + z))*dx - (u_n + dt*f)*v*dx\n",
    "a, L = lhs(F), rhs(F)"
   ]
  },
  {
   "cell_type": "markdown",
   "metadata": {},
   "source": [
    "Solve for the time dependent equation"
   ]
  },
  {
   "cell_type": "code",
   "execution_count": null,
   "metadata": {},
   "outputs": [],
   "source": [
    "# time steps for explicit solutions\n",
    "u = Function(V)\n",
    "tol = 1.0e-3        # tolerance\n",
    "maxiter = 1000        # max no of iterations allowed\n",
    "tstep = 0\n",
    "maxtstep = 10\n",
    "\n",
    "# I will do Piccard iterations to first update the hydraulic head in the kappa(u_) term.\n",
    "# Once this has reached its tollerance I will update the u_n and move on to the next timestep.\n",
    "\n",
    "iteration = []\n",
    "residual = []\n",
    "\n",
    "while tstep < maxtstep:\n",
    "    tstep += 1\n",
    "    print('tstep=%d -------' % (tstep))\n",
    "    eps = 1.0           # error measure ||u-u_||\n",
    "    itera = 0           # iteration counter\n",
    "    while eps > tol and itera < maxiter:\n",
    "        itera += 1\n",
    "        solve(a == L, u, bc, solver_parameters={'linear_solver': 'gmres', 'preconditioner': 'ilu'})\n",
    "        diff = u.vector().get_local() - u_.vector().get_local()\n",
    "        eps = np.linalg.norm(diff, np.Inf)  # maximum difference (L_inf norm)\n",
    "        print('iter=%d: norm=%g' % (itera, eps))\n",
    "        iteration.append(itera)\n",
    "        residual.append(eps)\n",
    "        #if itera == maxiter-1:\n",
    "        #    exit()\n",
    "        u_.assign(u)\n",
    "    \n",
    "    u_n.assign(u)"
   ]
  },
  {
   "cell_type": "code",
   "execution_count": null,
   "metadata": {},
   "outputs": [],
   "source": [
    "plt.figure()\n",
    "plt.plot(residual, 'k')\n",
    "plt.show()"
   ]
  },
  {
   "cell_type": "code",
   "execution_count": null,
   "metadata": {},
   "outputs": [],
   "source": [
    "# Save solution to file\n",
    "file = File(\"timedep-groundwater-head.pvd\")\n",
    "u.rename(\"h\",\"head\")\n",
    "file << u\n",
    "file = File(\"timedep-groundwater-base.pvd\")\n",
    "z.rename(\"z\",\"base\")\n",
    "file << z"
   ]
  },
  {
   "cell_type": "markdown",
   "metadata": {},
   "source": [
    "Plot the solution"
   ]
  },
  {
   "cell_type": "code",
   "execution_count": null,
   "metadata": {},
   "outputs": [],
   "source": [
    "head = pv.read('timedep-groundwater-head000000.vtu')\n",
    "base = pv.read('timedep-groundwater-base000000.vtu')\n",
    "head['groundwater'] = base['z'] + head['h']\n",
    "warp = head.warp_by_scalar(scalars='groundwater',factor=1)\n",
    "warpz = base.warp_by_scalar(scalars='z',factor=1)\n",
    "# view(geometries=warp)"
   ]
  },
  {
   "cell_type": "code",
   "execution_count": null,
   "metadata": {},
   "outputs": [],
   "source": [
    "p = pv.Plotter(notebook=False, border=False)\n",
    "p.add_text(\"Steady State Solution\", font_size=12)\n",
    "p.add_mesh(warp, scalars='groundwater', cmap='viridis', lighting=True, show_scalar_bar=True, opacity=0.85, color=True)\n",
    "p.add_mesh(warpz, scalars='z', cmap='magma', lighting=True, show_scalar_bar=True)\n",
    "p.show_bounds(grid='front', font_size=8, location='outer', all_edges=True)\n",
    "p.show(use_panel=False,)"
   ]
  },
  {
   "cell_type": "code",
   "execution_count": null,
   "metadata": {},
   "outputs": [],
   "source": [
    "warph = head.warp_by_scalar(scalars='h',factor=10)"
   ]
  },
  {
   "cell_type": "code",
   "execution_count": null,
   "metadata": {},
   "outputs": [],
   "source": [
    "p = pv.Plotter(notebook=False, border=False)\n",
    "p.add_text(\"Steady State Solution\", font_size=12)\n",
    "p.add_mesh(warph, scalars='h', cmap='viridis', lighting=True, show_scalar_bar=True)\n",
    "p.show(use_panel=False,)"
   ]
  },
  {
   "cell_type": "code",
   "execution_count": null,
   "metadata": {},
   "outputs": [],
   "source": []
  }
 ],
 "metadata": {
  "kernelspec": {
   "display_name": "Python 3",
   "language": "python",
   "name": "python3"
  },
  "language_info": {
   "codemirror_mode": {
    "name": "ipython",
    "version": 3
   },
   "file_extension": ".py",
   "mimetype": "text/x-python",
   "name": "python",
   "nbconvert_exporter": "python",
   "pygments_lexer": "ipython3",
   "version": "3.8.3"
  }
 },
 "nbformat": 4,
 "nbformat_minor": 4
}
